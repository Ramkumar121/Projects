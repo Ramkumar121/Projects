{
 "cells": [
  {
   "cell_type": "code",
   "execution_count": 1,
   "id": "32605b3a-6a75-40f0-8186-9724861888e1",
   "metadata": {},
   "outputs": [
    {
     "name": "stdout",
     "output_type": "stream",
     "text": [
      "('apple', 'banana', 'cherry')\n"
     ]
    }
   ],
   "source": [
    "thistuple = (\"apple\", \"banana\", \"cherry\")\n",
    "print(thistuple)  ## How  to create a tuple"
   ]
  },
  {
   "cell_type": "code",
   "execution_count": 3,
   "id": "63d0a49a-9e28-4c3c-a08f-34091b34c089",
   "metadata": {},
   "outputs": [
    {
     "name": "stdout",
     "output_type": "stream",
     "text": [
      "('apple', 'banana', 'cherry', 'banana', 'cherry')\n"
     ]
    }
   ],
   "source": [
    "thistuple = (\"apple\", \"banana\", \"cherry\",\"banana\", \"cherry\")\n",
    "print(thistuple)  ## Tuple allows duplictes "
   ]
  },
  {
   "cell_type": "code",
   "execution_count": 5,
   "id": "0bfbd70f-0187-4b92-a0d7-875031b9cd94",
   "metadata": {},
   "outputs": [
    {
     "name": "stdout",
     "output_type": "stream",
     "text": [
      "5\n"
     ]
    }
   ],
   "source": [
    "thistuple = (\"apple\", \"banana\", \"cherry\",\"banana\", \"cherry\")\n",
    "print (len(thistuple))  ## Tuple allows duplictes"
   ]
  },
  {
   "cell_type": "code",
   "execution_count": null,
   "id": "7a9233f0-6b68-4d2b-9778-2dc1ed114711",
   "metadata": {},
   "outputs": [],
   "source": [
    "thistuple = (\"apple\",)\n",
    "print(type(thistuple)) ##  if you want to create tuple with  item then add comma post to that item for python to recognize it is tuple\n",
    "\n"
   ]
  },
  {
   "cell_type": "code",
   "execution_count": 8,
   "id": "66cae08f-157c-4b95-a6c7-13cd14d72786",
   "metadata": {},
   "outputs": [
    {
     "name": "stdout",
     "output_type": "stream",
     "text": [
      "banana\n"
     ]
    }
   ],
   "source": [
    "thistuple = (\"apple\", \"banana\", \"cherry\")\n",
    "print(thistuple[1])  ## To access tuple with item 1"
   ]
  },
  {
   "cell_type": "code",
   "execution_count": 7,
   "id": "ef5ad7f8-18d8-44ab-a7a9-4d7ed1ac55ae",
   "metadata": {},
   "outputs": [
    {
     "name": "stdout",
     "output_type": "stream",
     "text": [
      "cherry\n"
     ]
    }
   ],
   "source": [
    "thistuple = (\"apple\", \"banana\", \"cherry\")\n",
    "print(thistuple[-1])  ## To access tuple with negative indexing -1"
   ]
  },
  {
   "cell_type": "code",
   "execution_count": 9,
   "id": "5e0ca5e4-cf82-40e9-8ca9-fac388dacc66",
   "metadata": {},
   "outputs": [
    {
     "name": "stdout",
     "output_type": "stream",
     "text": [
      "('cherry', 'orange', 'kiwi')\n"
     ]
    }
   ],
   "source": [
    "thistuple = (\"apple\", \"banana\", \"cherry\", \"orange\", \"kiwi\", \"melon\", \"mango\")\n",
    "print(thistuple[2:5]) ## To access tuple with ranges of index "
   ]
  },
  {
   "cell_type": "code",
   "execution_count": 10,
   "id": "299475f5-73cc-4932-9c66-a9eb132f9de3",
   "metadata": {},
   "outputs": [
    {
     "name": "stdout",
     "output_type": "stream",
     "text": [
      "('apple', 'banana', 'cherry', 'orange', 'kiwi')\n"
     ]
    }
   ],
   "source": [
    "thistuple = (\"apple\", \"banana\", \"cherry\", \"orange\", \"kiwi\", \"melon\", \"mango\")\n",
    "print(thistuple[:5]) ## TO access tuple starting with 0 to 4 where 5th index will be excluded"
   ]
  },
  {
   "cell_type": "code",
   "execution_count": 12,
   "id": "3226c43a-ac19-4f88-934a-23c1953b3774",
   "metadata": {},
   "outputs": [
    {
     "name": "stdout",
     "output_type": "stream",
     "text": [
      "('cherry', 'orange', 'kiwi', 'melon', 'mango')\n"
     ]
    }
   ],
   "source": [
    "thistuple = (\"apple\", \"banana\", \"cherry\", \"orange\", \"kiwi\", \"melon\", \"mango\")\n",
    "print(thistuple[2:]) ## TO access tuple starting with 2 to till end"
   ]
  },
  {
   "cell_type": "code",
   "execution_count": 13,
   "id": "6adc9f01-741a-45fd-9762-87ff6d95b965",
   "metadata": {},
   "outputs": [
    {
     "name": "stdout",
     "output_type": "stream",
     "text": [
      "('orange', 'kiwi', 'melon')\n"
     ]
    }
   ],
   "source": [
    "thistuple = (\"apple\", \"banana\", \"cherry\", \"orange\", \"kiwi\", \"melon\", \"mango\")\n",
    "print(thistuple[-4:-1]) ## TO access tuple starting with -4 to -1 "
   ]
  },
  {
   "cell_type": "code",
   "execution_count": 15,
   "id": "c552839e-fb67-4970-8bae-aee9c6d2c224",
   "metadata": {},
   "outputs": [
    {
     "name": "stdout",
     "output_type": "stream",
     "text": [
      "('apple', 'kiwi', 'cherry')\n"
     ]
    }
   ],
   "source": [
    "x = (\"apple\", \"banana\", \"cherry\")\n",
    "y = list(x)\n",
    "y[1] = \"kiwi\"\n",
    "x = tuple(y)\n",
    "\n",
    "print(x) #### to change tuple values Once a tuple is created, you cannot change its values. Tuples are unchangeable, or immutable as it also is called.\n",
    "\n",
    "###But there is a workaround. You can convert the tuple into a list, change the list, and convert the list back into a tuple.\n"
   ]
  },
  {
   "cell_type": "code",
   "execution_count": 21,
   "id": "d2df4c37-09db-4fdb-8332-f11f53ff6416",
   "metadata": {},
   "outputs": [
    {
     "name": "stdout",
     "output_type": "stream",
     "text": [
      "('apple', 'banana', 'cherry', 'orange')\n"
     ]
    }
   ],
   "source": [
    "thistuple = (\"apple\", \"banana\", \"cherry\")\n",
    "y = list(thistuple)\n",
    "y.append(\"orange\")\n",
    "thistuple = tuple(y)\n",
    "\n",
    "print(thistuple) #### Append method in tuple , tuple -->convert to list -->append mthod -->convert back to tuple"
   ]
  },
  {
   "cell_type": "code",
   "execution_count": 22,
   "id": "140de576-54e5-44a1-90c3-0b5bf2f6e304",
   "metadata": {},
   "outputs": [
    {
     "name": "stdout",
     "output_type": "stream",
     "text": [
      "apple\n",
      "banana\n",
      "cherry\n"
     ]
    }
   ],
   "source": [
    "fruits = (\"apple\", \"banana\", \"cherry\")\n",
    "\n",
    "(green, yellow, red) = fruits\n",
    "\n",
    "print(green)\n",
    "print(yellow)\n",
    "print(red)     ## Unpackig the tuple  where in Python, we are also allowed to extract the values back into variables. This is called \"unpacking\":"
   ]
  },
  {
   "cell_type": "code",
   "execution_count": 24,
   "id": "2c86c7a1-8ca9-44ef-9a46-614df51216ce",
   "metadata": {},
   "outputs": [
    {
     "name": "stdout",
     "output_type": "stream",
     "text": [
      "apple\n",
      "banana\n",
      "['cherry', 'strawberry', 'raspberry']\n"
     ]
    }
   ],
   "source": [
    "fruits = (\"apple\", \"banana\", \"cherry\", \"strawberry\", \"raspberry\")\n",
    "\n",
    "(green, yellow, *red) = fruits\n",
    "\n",
    "print(green)\n",
    "print(yellow)\n",
    "print(red)  ### If the number of variables is less than the number of values, you can add an * to the variable name \n",
    "            ### and the values will be assigned to the variable as a list:"
   ]
  },
  {
   "cell_type": "code",
   "execution_count": 25,
   "id": "aeb6cf8e-0b87-4fbd-baf0-04e2d0c0c009",
   "metadata": {},
   "outputs": [
    {
     "name": "stdout",
     "output_type": "stream",
     "text": [
      "apple\n",
      "banana\n",
      "cherry\n"
     ]
    }
   ],
   "source": [
    "thistuple = (\"apple\", \"banana\", \"cherry\")\n",
    "for i in range(len(thistuple)):\n",
    "  print(thistuple[i]) ## Looping tuple "
   ]
  },
  {
   "cell_type": "code",
   "execution_count": 28,
   "id": "8d9edc9c-a838-4e30-b55a-798c513f1c1d",
   "metadata": {},
   "outputs": [
    {
     "name": "stdout",
     "output_type": "stream",
     "text": [
      "apple\n",
      "banana\n",
      "cherry\n"
     ]
    }
   ],
   "source": [
    "thistuple = (\"apple\", \"banana\", \"cherry\")\n",
    "i = 0\n",
    "while i < len(thistuple):\n",
    "  print(thistuple[i])\n",
    "  i = i + 1 ## While loop in tuple"
   ]
  },
  {
   "cell_type": "code",
   "execution_count": 29,
   "id": "8ead904c-a466-48ba-bc5b-881eee3f14f1",
   "metadata": {},
   "outputs": [
    {
     "name": "stdout",
     "output_type": "stream",
     "text": [
      "('a', 'b', 'c', 1, 2, 3)\n"
     ]
    }
   ],
   "source": [
    "tuple1 = (\"a\", \"b\" , \"c\")\n",
    "tuple2 = (1, 2, 3)\n",
    "\n",
    "tuple3 = tuple1 + tuple2\n",
    "print(tuple3) ## JOin two tuples"
   ]
  },
  {
   "cell_type": "code",
   "execution_count": 31,
   "id": "6e3d200a-2cd9-4308-a562-4f3b6a510180",
   "metadata": {},
   "outputs": [
    {
     "name": "stdout",
     "output_type": "stream",
     "text": [
      "('apple', 'banana', 'cherry', 'apple', 'banana', 'cherry', 'apple', 'banana', 'cherry')\n"
     ]
    }
   ],
   "source": [
    "fruits = (\"apple\", \"banana\", \"cherry\")\n",
    "mytuple = fruits * 3\n",
    "\n",
    "print(mytuple) ## use * operator to mulitply the content of a tuple "
   ]
  },
  {
   "cell_type": "code",
   "execution_count": null,
   "id": "7e745ac1-d3ef-4306-ba6d-7ffd2c6cece9",
   "metadata": {},
   "outputs": [],
   "source": []
  }
 ],
 "metadata": {
  "kernelspec": {
   "display_name": "Python 3",
   "language": "python",
   "name": "python3"
  },
  "language_info": {
   "codemirror_mode": {
    "name": "ipython",
    "version": 3
   },
   "file_extension": ".py",
   "mimetype": "text/x-python",
   "name": "python",
   "nbconvert_exporter": "python",
   "pygments_lexer": "ipython3",
   "version": "3.8.8"
  }
 },
 "nbformat": 4,
 "nbformat_minor": 5
}
