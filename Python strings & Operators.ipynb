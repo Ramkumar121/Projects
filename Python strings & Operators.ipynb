{
 "cells": [
  {
   "cell_type": "code",
   "execution_count": 1,
   "id": "d7fb1cab",
   "metadata": {},
   "outputs": [],
   "source": [
    "import sys\n",
    "import keyword\n",
    "import operator\n",
    "from datetime import datetime\n",
    "import os\n"
   ]
  },
  {
   "cell_type": "code",
   "execution_count": 2,
   "id": "884be630",
   "metadata": {},
   "outputs": [
    {
     "name": "stdout",
     "output_type": "stream",
     "text": [
      "['False', 'None', 'True', 'and', 'as', 'assert', 'async', 'await', 'break', 'class', 'continue', 'def', 'del', 'elif', 'else', 'except', 'finally', 'for', 'from', 'global', 'if', 'import', 'in', 'is', 'lambda', 'nonlocal', 'not', 'or', 'pass', 'raise', 'return', 'try', 'while', 'with', 'yield']\n"
     ]
    }
   ],
   "source": [
    "print(keyword.kwlist) #\n"
   ]
  },
  {
   "cell_type": "code",
   "execution_count": 3,
   "id": "664cdf47",
   "metadata": {},
   "outputs": [
    {
     "data": {
      "text/plain": [
       "35"
      ]
     },
     "execution_count": 3,
     "metadata": {},
     "output_type": "execute_result"
    }
   ],
   "source": [
    "len(keyword.kwlist) "
   ]
  },
  {
   "cell_type": "code",
   "execution_count": 4,
   "id": "7eea01be",
   "metadata": {},
   "outputs": [],
   "source": [
    "val2 = 10\n"
   ]
  },
  {
   "cell_type": "code",
   "execution_count": 5,
   "id": "89586396",
   "metadata": {},
   "outputs": [
    {
     "name": "stdout",
     "output_type": "stream",
     "text": [
      "val2\n"
     ]
    }
   ],
   "source": [
    "print('val2')"
   ]
  },
  {
   "cell_type": "code",
   "execution_count": 6,
   "id": "7d46568d",
   "metadata": {},
   "outputs": [],
   "source": [
    "P1=10+20"
   ]
  },
  {
   "cell_type": "code",
   "execution_count": 7,
   "id": "bddc4e96",
   "metadata": {},
   "outputs": [
    {
     "data": {
      "text/plain": [
       "30"
      ]
     },
     "execution_count": 7,
     "metadata": {},
     "output_type": "execute_result"
    }
   ],
   "source": [
    "P1"
   ]
  },
  {
   "cell_type": "code",
   "execution_count": 11,
   "id": "be6f624c",
   "metadata": {},
   "outputs": [
    {
     "name": "stdout",
     "output_type": "stream",
     "text": [
      "value of p is 10 here\n"
     ]
    }
   ],
   "source": [
    "p=10\n",
    "if p==10:\n",
    " print(\"value of p is 10 here\")"
   ]
  },
  {
   "cell_type": "code",
   "execution_count": 12,
   "id": "153eb715",
   "metadata": {},
   "outputs": [
    {
     "name": "stdout",
     "output_type": "stream",
     "text": [
      "0\n",
      "1\n",
      "2\n",
      "3\n",
      "4\n"
     ]
    }
   ],
   "source": [
    "for i in range(0,5):\n",
    "    print (i)"
   ]
  },
  {
   "cell_type": "code",
   "execution_count": 13,
   "id": "56721f69",
   "metadata": {},
   "outputs": [
    {
     "name": "stdout",
     "output_type": "stream",
     "text": [
      "0\n",
      "1\n",
      "2\n",
      "3\n",
      "4\n",
      "20\n"
     ]
    }
   ],
   "source": [
    "j=20;\n",
    "for i in range(0,5):\n",
    "    print (i)\n",
    "print (j)\n"
   ]
  },
  {
   "cell_type": "code",
   "execution_count": 14,
   "id": "5f6e6bd8",
   "metadata": {},
   "outputs": [],
   "source": [
    "def square(num):\n",
    "    '''square function will return the square of a given number'''\n",
    "    return num**2;"
   ]
  },
  {
   "cell_type": "code",
   "execution_count": 15,
   "id": "dc128a80",
   "metadata": {},
   "outputs": [
    {
     "data": {
      "text/plain": [
       "16"
      ]
     },
     "execution_count": 15,
     "metadata": {},
     "output_type": "execute_result"
    }
   ],
   "source": [
    "square(4)"
   ]
  },
  {
   "cell_type": "code",
   "execution_count": 17,
   "id": "5fe1f31a",
   "metadata": {},
   "outputs": [],
   "source": [
    "def evenodd(num):\n",
    "    if num %2 == 0 :\n",
    "        print ('given number is even')\n",
    "    else:\n",
    "        print ('given number is odd')"
   ]
  },
  {
   "cell_type": "code",
   "execution_count": 18,
   "id": "bedd8180",
   "metadata": {},
   "outputs": [
    {
     "name": "stdout",
     "output_type": "stream",
     "text": [
      "given number is odd\n"
     ]
    }
   ],
   "source": [
    "evenodd(9)"
   ]
  },
  {
   "cell_type": "code",
   "execution_count": 19,
   "id": "213f26c0",
   "metadata": {},
   "outputs": [
    {
     "name": "stdout",
     "output_type": "stream",
     "text": [
      "given number is even\n"
     ]
    }
   ],
   "source": [
    "evenodd(8)"
   ]
  },
  {
   "cell_type": "code",
   "execution_count": 21,
   "id": "49191c62",
   "metadata": {},
   "outputs": [
    {
     "name": "stdout",
     "output_type": "stream",
     "text": [
      "10\n"
     ]
    }
   ],
   "source": [
    "str=\"helloworld\"\n",
    "print(len(str))"
   ]
  },
  {
   "cell_type": "markdown",
   "id": "4c7902d4",
   "metadata": {},
   "source": [
    "str1='happy everyone'\n",
    "print(str1)"
   ]
  },
  {
   "cell_type": "code",
   "execution_count": 22,
   "id": "022faa22",
   "metadata": {},
   "outputs": [
    {
     "name": "stdout",
     "output_type": "stream",
     "text": [
      "happy everyone\n"
     ]
    }
   ],
   "source": [
    "str1='happy everyone'\n",
    "print(str1)"
   ]
  },
  {
   "cell_type": "code",
   "execution_count": 31,
   "id": "98a244e5",
   "metadata": {},
   "outputs": [
    {
     "name": "stdout",
     "output_type": "stream",
     "text": [
      "14\n"
     ]
    }
   ],
   "source": [
    "print(len(str1)) ### ## Calculate the length of the string\""
   ]
  },
  {
   "cell_type": "code",
   "execution_count": 24,
   "id": "df7989e1",
   "metadata": {},
   "outputs": [
    {
     "name": "stdout",
     "output_type": "stream",
     "text": [
      " \n"
     ]
    }
   ],
   "source": [
    "print(str1[5])"
   ]
  },
  {
   "cell_type": "code",
   "execution_count": 25,
   "id": "b70ceada",
   "metadata": {},
   "outputs": [
    {
     "data": {
      "text/plain": [
       "' '"
      ]
     },
     "execution_count": 25,
     "metadata": {},
     "output_type": "execute_result"
    }
   ],
   "source": [
    "str1[5] ## Fetch the fifth postion of the index for the string \"happy everyone\""
   ]
  },
  {
   "cell_type": "code",
   "execution_count": 26,
   "id": "6c478bc6",
   "metadata": {},
   "outputs": [
    {
     "data": {
      "text/plain": [
       "'happy ev'"
      ]
     },
     "execution_count": 26,
     "metadata": {},
     "output_type": "execute_result"
    }
   ],
   "source": [
    "str1[0:8] ### Fetch forward indexing postio 0 to  8 "
   ]
  },
  {
   "cell_type": "code",
   "execution_count": 27,
   "id": "e4d3ca0d",
   "metadata": {},
   "outputs": [
    {
     "data": {
      "text/plain": [
       "'v'"
      ]
     },
     "execution_count": 27,
     "metadata": {},
     "output_type": "execute_result"
    }
   ],
   "source": [
    "str1[-7] ### Fetch backward indexing postio -7 "
   ]
  },
  {
   "cell_type": "code",
   "execution_count": 28,
   "id": "de44f250",
   "metadata": {},
   "outputs": [
    {
     "data": {
      "text/plain": [
       "'rld'"
      ]
     },
     "execution_count": 28,
     "metadata": {},
     "output_type": "execute_result"
    }
   ],
   "source": [
    "str1[-3:]  ### Fetch backward indexing postio -7 "
   ]
  },
  {
   "cell_type": "code",
   "execution_count": 29,
   "id": "da86e6d1",
   "metadata": {},
   "outputs": [
    {
     "data": {
      "text/plain": [
       "' everyone'"
      ]
     },
     "execution_count": 29,
     "metadata": {},
     "output_type": "execute_result"
    }
   ],
   "source": [
    "str1[5:] ### fetch the characters post indexing 5"
   ]
  },
  {
   "cell_type": "code",
   "execution_count": 30,
   "id": "add50893",
   "metadata": {},
   "outputs": [
    {
     "data": {
      "text/plain": [
       "'happ'"
      ]
     },
     "execution_count": 30,
     "metadata": {},
     "output_type": "execute_result"
    }
   ],
   "source": [
    "str1[0:4] ### fetch the first five character through forward indexing"
   ]
  },
  {
   "cell_type": "code",
   "execution_count": 37,
   "id": "43569aa2",
   "metadata": {},
   "outputs": [
    {
     "name": "stdout",
     "output_type": "stream",
     "text": [
      "ram  kumar\n"
     ]
    }
   ],
   "source": [
    "str1=\"ram\"\n",
    "str2=\"kumar\"\n",
    "a=str1+ \"  \"+str2 ### concat the given two strings \n",
    "print(a)"
   ]
  },
  {
   "cell_type": "markdown",
   "id": "31d0bf06",
   "metadata": {},
   "source": [
    "str1=\"hello everyone\"\n",
    " for i in str1\n",
    "  print(i)"
   ]
  },
  {
   "cell_type": "code",
   "execution_count": 38,
   "id": "228b6ad0",
   "metadata": {},
   "outputs": [
    {
     "name": "stdout",
     "output_type": "stream",
     "text": [
      "h\n",
      "e\n",
      "l\n",
      "l\n",
      "o\n",
      " \n",
      "e\n",
      "v\n",
      "e\n",
      "r\n",
      "y\n",
      "o\n",
      "n\n",
      "e\n"
     ]
    }
   ],
   "source": [
    "str1=\"hello everyone\" ### iterating the string\n",
    "for i in str1:\n",
    "    print(i)"
   ]
  },
  {
   "cell_type": "code",
   "execution_count": 41,
   "id": "a45c7d2f",
   "metadata": {},
   "outputs": [
    {
     "name": "stdout",
     "output_type": "stream",
     "text": [
      "(0, 'h')\n",
      "(1, 'e')\n",
      "(2, 'l')\n",
      "(3, 'l')\n",
      "(4, 'o')\n",
      "(5, ' ')\n",
      "(6, 'e')\n",
      "(7, 'v')\n",
      "(8, 'e')\n",
      "(9, 'r')\n",
      "(10, 'y')\n",
      "(11, 'o')\n",
      "(12, 'n')\n",
      "(13, 'e')\n"
     ]
    }
   ],
   "source": [
    "str1=\"hello everyone\" ### iterating the string\n",
    "for i in enumerate(str1):\n",
    "    print(i)"
   ]
  },
  {
   "cell_type": "code",
   "execution_count": 40,
   "id": "d4e4b907",
   "metadata": {},
   "outputs": [
    {
     "name": "stdout",
     "output_type": "stream",
     "text": [
      "(0, 'h')\n",
      "(1, 'e')\n",
      "(2, 'l')\n",
      "(3, 'l')\n",
      "(4, 'o')\n",
      "(5, ' ')\n",
      "(6, 'e')\n",
      "(7, 'v')\n",
      "(8, 'e')\n",
      "(9, 'r')\n",
      "(10, 'y')\n",
      "(11, 'o')\n",
      "(12, 'n')\n",
      "(13, 'e')\n"
     ]
    }
   ],
   "source": [
    "str1=\"hello everyone\" ### iterating the string\n",
    "for i in list(enumerate(str1)):\n",
    "    print(i)"
   ]
  },
  {
   "cell_type": "code",
   "execution_count": 42,
   "id": "ac24077e",
   "metadata": {},
   "outputs": [],
   "source": [
    "string =\"  Very good morning  \""
   ]
  },
  {
   "cell_type": "code",
   "execution_count": 43,
   "id": "4e96473f",
   "metadata": {},
   "outputs": [
    {
     "data": {
      "text/plain": [
       "'Very good morning'"
      ]
     },
     "execution_count": 43,
     "metadata": {},
     "output_type": "execute_result"
    }
   ],
   "source": [
    "string.strip()"
   ]
  },
  {
   "cell_type": "code",
   "execution_count": 44,
   "id": "084b43b3",
   "metadata": {},
   "outputs": [
    {
     "data": {
      "text/plain": [
       "'  Very good morning'"
      ]
     },
     "execution_count": 44,
     "metadata": {},
     "output_type": "execute_result"
    }
   ],
   "source": [
    "string.rstrip()"
   ]
  },
  {
   "cell_type": "code",
   "execution_count": 45,
   "id": "fd0261bb",
   "metadata": {},
   "outputs": [
    {
     "data": {
      "text/plain": [
       "'Very good morning  '"
      ]
     },
     "execution_count": 45,
     "metadata": {},
     "output_type": "execute_result"
    }
   ],
   "source": [
    "string.lstrip()"
   ]
  },
  {
   "cell_type": "code",
   "execution_count": 46,
   "id": "73f0dde3",
   "metadata": {},
   "outputs": [
    {
     "data": {
      "text/plain": [
       "'  very good morning  '"
      ]
     },
     "execution_count": 46,
     "metadata": {},
     "output_type": "execute_result"
    }
   ],
   "source": [
    "string.lower()"
   ]
  },
  {
   "cell_type": "code",
   "execution_count": 47,
   "id": "d2e60b0d",
   "metadata": {},
   "outputs": [
    {
     "data": {
      "text/plain": [
       "'  VERY GOOD MORNING  '"
      ]
     },
     "execution_count": 47,
     "metadata": {},
     "output_type": "execute_result"
    }
   ],
   "source": [
    "string.upper()"
   ]
  },
  {
   "cell_type": "code",
   "execution_count": 48,
   "id": "e4ddd029",
   "metadata": {},
   "outputs": [
    {
     "data": {
      "text/plain": [
       "'  Happy good morning  '"
      ]
     },
     "execution_count": 48,
     "metadata": {},
     "output_type": "execute_result"
    }
   ],
   "source": [
    "string.replace(\"Very\",\"Happy\")"
   ]
  },
  {
   "cell_type": "code",
   "execution_count": 49,
   "id": "904d9065",
   "metadata": {},
   "outputs": [],
   "source": [
    "string2=\"one two three one five one two three one two five four\""
   ]
  },
  {
   "cell_type": "code",
   "execution_count": 51,
   "id": "9e418dde",
   "metadata": {},
   "outputs": [
    {
     "data": {
      "text/plain": [
       "4"
      ]
     },
     "execution_count": 51,
     "metadata": {},
     "output_type": "execute_result"
    }
   ],
   "source": [
    "string2.count(\"one\")"
   ]
  },
  {
   "cell_type": "code",
   "execution_count": 52,
   "id": "14c06507",
   "metadata": {},
   "outputs": [
    {
     "data": {
      "text/plain": [
       "2"
      ]
     },
     "execution_count": 52,
     "metadata": {},
     "output_type": "execute_result"
    }
   ],
   "source": [
    "string2.count(\"three\")"
   ]
  },
  {
   "cell_type": "code",
   "execution_count": 53,
   "id": "4c57d9e4",
   "metadata": {},
   "outputs": [
    {
     "data": {
      "text/plain": [
       "3"
      ]
     },
     "execution_count": 53,
     "metadata": {},
     "output_type": "execute_result"
    }
   ],
   "source": [
    "string2.count(\"two\")"
   ]
  },
  {
   "cell_type": "code",
   "execution_count": 54,
   "id": "b2248fbd",
   "metadata": {},
   "outputs": [
    {
     "data": {
      "text/plain": [
       "'onetwothreeonefiveonetwothreeonetwofivefour'"
      ]
     },
     "execution_count": 54,
     "metadata": {},
     "output_type": "execute_result"
    }
   ],
   "source": [
    "string2.replace(\" \",\"\")"
   ]
  },
  {
   "cell_type": "code",
   "execution_count": 55,
   "id": "e23f02ea",
   "metadata": {},
   "outputs": [],
   "source": [
    "string3=\"Today is going to be a great day and wishing you success\""
   ]
  },
  {
   "cell_type": "code",
   "execution_count": 56,
   "id": "66f1ca7e",
   "metadata": {},
   "outputs": [],
   "source": [
    "mylist=string3.split()"
   ]
  },
  {
   "cell_type": "code",
   "execution_count": 57,
   "id": "847549c9",
   "metadata": {},
   "outputs": [
    {
     "name": "stdout",
     "output_type": "stream",
     "text": [
      "['Today', 'is', 'going', 'to', 'be', 'a', 'great', 'day', 'and', 'wishing', 'you', 'success']\n"
     ]
    }
   ],
   "source": [
    "print(mylist)"
   ]
  },
  {
   "cell_type": "code",
   "execution_count": null,
   "id": "d08d71bc",
   "metadata": {},
   "outputs": [],
   "source": []
  }
 ],
 "metadata": {
  "kernelspec": {
   "display_name": "Python 3",
   "language": "python",
   "name": "python3"
  },
  "language_info": {
   "codemirror_mode": {
    "name": "ipython",
    "version": 3
   },
   "file_extension": ".py",
   "mimetype": "text/x-python",
   "name": "python",
   "nbconvert_exporter": "python",
   "pygments_lexer": "ipython3",
   "version": "3.8.8"
  }
 },
 "nbformat": 4,
 "nbformat_minor": 5
}
